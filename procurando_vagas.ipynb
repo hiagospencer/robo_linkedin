{
 "cells": [
  {
   "cell_type": "code",
   "execution_count": 172,
   "metadata": {},
   "outputs": [],
   "source": [
    "from selenium import webdriver\n",
    "from selenium.webdriver.chrome.service import Service\n",
    "from webdriver_manager.chrome import ChromeDriverManager\n",
    "from time import sleep\n",
    "from selenium.webdriver import ActionChains\n",
    "from selenium.webdriver.common.keys import Keys\n",
    "from selenium.webdriver.common.by import By\n",
    "import pandas as pd\n",
    "import pyautogui\n",
    "\n",
    "servico = Service(ChromeDriverManager().install())\n",
    "\n",
    "navegador = webdriver.Chrome(service=servico)\n",
    "navegador.maximize_window()"
   ]
  },
  {
   "cell_type": "code",
   "execution_count": 180,
   "metadata": {},
   "outputs": [
    {
     "name": "stdout",
     "output_type": "stream",
     "text": [
      "Entrou no Linkedin.\n"
     ]
    }
   ],
   "source": [
    "navegador.get('https://www.linkedin.com/')\n",
    "#  Verificando se já está logado ou não.\n",
    "username = input('Login: ')\n",
    "senha = input('Senha: ')\n",
    "\n",
    "try:\n",
    "    login = navegador.find_element(By.ID, 'session_key').send_keys(username)\n",
    "    senha = navegador.find_element(By.ID, 'session_password').send_keys(senha)\n",
    "    navegador.find_element(By.CLASS_NAME, 'sign-in-form__submit-button').click()\n",
    "    navegador.find_element(By.CLASS_NAME, 'secondary-action').click()\n",
    "except:\n",
    "    print('Entrou no Linkedin.')"
   ]
  },
  {
   "cell_type": "code",
   "execution_count": 181,
   "metadata": {},
   "outputs": [
    {
     "name": "stdout",
     "output_type": "stream",
     "text": [
      "Pesquisando Vagas de DESENVOLVEDOR RPA\n"
     ]
    }
   ],
   "source": [
    "# Fazendo a Pesquisa\n",
    "profissao = input('Qual a Vaga que deseja procurar? ').upper()\n",
    "print(f'Pesquisando Vagas de {profissao}')\n",
    "navegador.find_element(By.CLASS_NAME, 'search-global-typeahead__input').send_keys(profissao)\n",
    "navegador.find_element(By.CLASS_NAME, 'search-global-typeahead__input').send_keys(Keys.ENTER)\n",
    "\n",
    "# Clicando em Vagas\n",
    "while len(navegador.find_elements(By.CLASS_NAME, 'artdeco-pill')) < 1:\n",
    "    sleep(1)\n",
    "sleep(1)\n",
    "\n",
    "\n",
    "elementos = navegador.find_elements(By.CLASS_NAME, 'artdeco-pill')\n",
    "\n",
    "for elemento in elementos:\n",
    "    if 'Vagas' in elemento.text:\n",
    "        sleep(2)\n",
    "        elemento.click()\n",
    "        break\n",
    "sleep(10)"
   ]
  },
  {
   "cell_type": "code",
   "execution_count": 182,
   "metadata": {},
   "outputs": [],
   "source": [
    "# Scroll Na Página com Pyautogui.\n",
    "pyautogui.moveTo(1882, 308)\n",
    "pyautogui.mouseDown(button='left', x=1882, y=500)\n",
    "sleep(1)\n",
    "pyautogui.mouseUp(button='left', x=1881, y=721)"
   ]
  },
  {
   "cell_type": "code",
   "execution_count": 183,
   "metadata": {},
   "outputs": [
    {
     "name": "stdout",
     "output_type": "stream",
     "text": [
      "13\n"
     ]
    }
   ],
   "source": [
    "# Criando uma lista com os resultados das Vagas relacionadas.\n",
    "nomes_vagas = []\n",
    "vagas = navegador.find_elements(By.CLASS_NAME, 'job-card-list__title')\n",
    "for vaga in vagas:\n",
    "    nomes_vagas.append(vaga.text)\n",
    "    \n",
    "print(len(nomes_vagas))"
   ]
  },
  {
   "cell_type": "code",
   "execution_count": 184,
   "metadata": {},
   "outputs": [
    {
     "name": "stdout",
     "output_type": "stream",
     "text": [
      "13\n"
     ]
    }
   ],
   "source": [
    "# Criando uma lista com os nomes das empresas com vagas.\n",
    "lista_empresas = []\n",
    "empresas = navegador.find_elements(By.CLASS_NAME, 'job-card-container__primary-description ')\n",
    "for nome in empresas:\n",
    "    lista_empresas.append(nome.text)\n",
    "print(len(lista_empresas))"
   ]
  },
  {
   "cell_type": "code",
   "execution_count": 185,
   "metadata": {},
   "outputs": [
    {
     "name": "stdout",
     "output_type": "stream",
     "text": [
      "14\n"
     ]
    }
   ],
   "source": [
    "# Criando uma lista com os locais das Vagas relacionadas.\n",
    "lista_local = []\n",
    "localidade = navegador.find_elements(By.CLASS_NAME, 'job-card-container__metadata-item')\n",
    "for local in localidade:\n",
    "    lista_local.append(local.text)\n",
    "print(len(lista_local))"
   ]
  },
  {
   "cell_type": "code",
   "execution_count": 186,
   "metadata": {},
   "outputs": [],
   "source": [
    "# Criando uma lista com os links das Vagas.\n",
    "lista_links = []\n",
    "\n",
    "links = navegador.find_elements(By.CLASS_NAME, 'job-card-container__link')\n",
    "\n",
    "for link in links:\n",
    "    lista_links.append(link.get_attribute('href'))\n",
    "\n",
    "# Excluíndo os links repetitivos.\n",
    "lista_links = list(set(lista_links))\n",
    "\n",
    "# Passando as listas e criando uma tupla para cada item relacionados das vagas. Depois criar um DataFrame.\n",
    "lista_tuplas = list(zip(nomes_vagas, lista_empresas, lista_local, lista_links))"
   ]
  },
  {
   "cell_type": "code",
   "execution_count": 187,
   "metadata": {},
   "outputs": [
    {
     "data": {
      "text/html": [
       "<div>\n",
       "<style scoped>\n",
       "    .dataframe tbody tr th:only-of-type {\n",
       "        vertical-align: middle;\n",
       "    }\n",
       "\n",
       "    .dataframe tbody tr th {\n",
       "        vertical-align: top;\n",
       "    }\n",
       "\n",
       "    .dataframe thead th {\n",
       "        text-align: right;\n",
       "    }\n",
       "</style>\n",
       "<table border=\"1\" class=\"dataframe\">\n",
       "  <thead>\n",
       "    <tr style=\"text-align: right;\">\n",
       "      <th></th>\n",
       "      <th>Vagas</th>\n",
       "      <th>Empresa</th>\n",
       "      <th>Localidade</th>\n",
       "      <th>Links Das Vagas</th>\n",
       "    </tr>\n",
       "  </thead>\n",
       "  <tbody>\n",
       "    <tr>\n",
       "      <th>0</th>\n",
       "      <td>Desenvolvedor RPA Jr.</td>\n",
       "      <td>BITi9 - Business IT Innovation</td>\n",
       "      <td>São Paulo, São Paulo, Brasil (Remoto)</td>\n",
       "      <td>https://www.linkedin.com/jobs/view/3300974376/...</td>\n",
       "    </tr>\n",
       "    <tr>\n",
       "      <th>1</th>\n",
       "      <td>Desenvolvedor Rpa</td>\n",
       "      <td>Synergie Consulting</td>\n",
       "      <td>São Paulo, São Paulo, Brasil (Presencial)</td>\n",
       "      <td>https://www.linkedin.com/jobs/view/3192776935/...</td>\n",
       "    </tr>\n",
       "    <tr>\n",
       "      <th>2</th>\n",
       "      <td>Desenvolvedor de RPA</td>\n",
       "      <td>Smilink</td>\n",
       "      <td>São Paulo, São Paulo, Brasil</td>\n",
       "      <td>https://www.linkedin.com/jobs/view/3295650570/...</td>\n",
       "    </tr>\n",
       "    <tr>\n",
       "      <th>3</th>\n",
       "      <td>Formados - Desenvolvedor(a) RPA Remoto</td>\n",
       "      <td>Visagio</td>\n",
       "      <td>Brasil (Remoto)</td>\n",
       "      <td>https://www.linkedin.com/jobs/view/3254136089/...</td>\n",
       "    </tr>\n",
       "    <tr>\n",
       "      <th>4</th>\n",
       "      <td>Desenvolvedor RPA PL</td>\n",
       "      <td>BITi9 - Business IT Innovation</td>\n",
       "      <td>São Paulo, São Paulo, Brasil (Remoto)</td>\n",
       "      <td>https://www.linkedin.com/jobs/view/3264115061/...</td>\n",
       "    </tr>\n",
       "    <tr>\n",
       "      <th>5</th>\n",
       "      <td>Desenvolvedor RPA - FREELANCER - (Robotic Proc...</td>\n",
       "      <td>Ogilvy Brasil</td>\n",
       "      <td>R$ 3.000/month - R$ 6.000/month</td>\n",
       "      <td>https://www.linkedin.com/jobs/view/3300964454/...</td>\n",
       "    </tr>\n",
       "    <tr>\n",
       "      <th>6</th>\n",
       "      <td>Desenvolvedor RPA</td>\n",
       "      <td>Profectum Tecnologia</td>\n",
       "      <td>São Paulo, São Paulo, Brasil (Presencial)</td>\n",
       "      <td>https://www.linkedin.com/jobs/view/3248331911/...</td>\n",
       "    </tr>\n",
       "    <tr>\n",
       "      <th>7</th>\n",
       "      <td>Desenvolvedor Back-End JR</td>\n",
       "      <td>UneCont | Automação Fiscal</td>\n",
       "      <td>Fortaleza, Ceará, Brasil (Presencial)</td>\n",
       "      <td>https://www.linkedin.com/jobs/view/3292183531/...</td>\n",
       "    </tr>\n",
       "    <tr>\n",
       "      <th>8</th>\n",
       "      <td>Desenvolvedor - Foco em Power Automate</td>\n",
       "      <td>JOIN.</td>\n",
       "      <td>São Paulo, São Paulo, Brasil (Remoto)</td>\n",
       "      <td>https://www.linkedin.com/jobs/view/3182252551/...</td>\n",
       "    </tr>\n",
       "    <tr>\n",
       "      <th>9</th>\n",
       "      <td>Desenvolvedor RPA Pleno</td>\n",
       "      <td>RobotEasy | Robotic Process Automation</td>\n",
       "      <td>Brasília, Distrito Federal, Brasil (Presencial)</td>\n",
       "      <td>https://www.linkedin.com/jobs/view/3254127142/...</td>\n",
       "    </tr>\n",
       "    <tr>\n",
       "      <th>10</th>\n",
       "      <td>Desenvolvedor RPA Pleno</td>\n",
       "      <td>Digitaly Tech - Soluções Digitais</td>\n",
       "      <td>Joinville, Santa Catarina, Brasil (Híbrido)</td>\n",
       "      <td>https://www.linkedin.com/jobs/view/3295116201/...</td>\n",
       "    </tr>\n",
       "    <tr>\n",
       "      <th>11</th>\n",
       "      <td>Desenvolvedor de Automações</td>\n",
       "      <td>Accenture Brasil</td>\n",
       "      <td>São Paulo, São Paulo, Brasil (Presencial)</td>\n",
       "      <td>https://www.linkedin.com/jobs/view/3254123909/...</td>\n",
       "    </tr>\n",
       "    <tr>\n",
       "      <th>12</th>\n",
       "      <td>Desenvolvedor de Automações de Processos</td>\n",
       "      <td>Delfia</td>\n",
       "      <td>Recife e Região (Presencial)</td>\n",
       "      <td>https://www.linkedin.com/jobs/view/3293174977/...</td>\n",
       "    </tr>\n",
       "  </tbody>\n",
       "</table>\n",
       "</div>"
      ],
      "text/plain": [
       "                                                Vagas  \\\n",
       "0                               Desenvolvedor RPA Jr.   \n",
       "1                                   Desenvolvedor Rpa   \n",
       "2                                Desenvolvedor de RPA   \n",
       "3              Formados - Desenvolvedor(a) RPA Remoto   \n",
       "4                                Desenvolvedor RPA PL   \n",
       "5   Desenvolvedor RPA - FREELANCER - (Robotic Proc...   \n",
       "6                                   Desenvolvedor RPA   \n",
       "7                           Desenvolvedor Back-End JR   \n",
       "8              Desenvolvedor - Foco em Power Automate   \n",
       "9                             Desenvolvedor RPA Pleno   \n",
       "10                            Desenvolvedor RPA Pleno   \n",
       "11                        Desenvolvedor de Automações   \n",
       "12           Desenvolvedor de Automações de Processos   \n",
       "\n",
       "                                    Empresa  \\\n",
       "0            BITi9 - Business IT Innovation   \n",
       "1                       Synergie Consulting   \n",
       "2                                   Smilink   \n",
       "3                                   Visagio   \n",
       "4            BITi9 - Business IT Innovation   \n",
       "5                             Ogilvy Brasil   \n",
       "6                      Profectum Tecnologia   \n",
       "7                UneCont | Automação Fiscal   \n",
       "8                                     JOIN.   \n",
       "9    RobotEasy | Robotic Process Automation   \n",
       "10        Digitaly Tech - Soluções Digitais   \n",
       "11                         Accenture Brasil   \n",
       "12                                   Delfia   \n",
       "\n",
       "                                         Localidade  \\\n",
       "0             São Paulo, São Paulo, Brasil (Remoto)   \n",
       "1         São Paulo, São Paulo, Brasil (Presencial)   \n",
       "2                      São Paulo, São Paulo, Brasil   \n",
       "3                                   Brasil (Remoto)   \n",
       "4             São Paulo, São Paulo, Brasil (Remoto)   \n",
       "5                   R$ 3.000/month - R$ 6.000/month   \n",
       "6         São Paulo, São Paulo, Brasil (Presencial)   \n",
       "7             Fortaleza, Ceará, Brasil (Presencial)   \n",
       "8             São Paulo, São Paulo, Brasil (Remoto)   \n",
       "9   Brasília, Distrito Federal, Brasil (Presencial)   \n",
       "10      Joinville, Santa Catarina, Brasil (Híbrido)   \n",
       "11        São Paulo, São Paulo, Brasil (Presencial)   \n",
       "12                     Recife e Região (Presencial)   \n",
       "\n",
       "                                      Links Das Vagas  \n",
       "0   https://www.linkedin.com/jobs/view/3300974376/...  \n",
       "1   https://www.linkedin.com/jobs/view/3192776935/...  \n",
       "2   https://www.linkedin.com/jobs/view/3295650570/...  \n",
       "3   https://www.linkedin.com/jobs/view/3254136089/...  \n",
       "4   https://www.linkedin.com/jobs/view/3264115061/...  \n",
       "5   https://www.linkedin.com/jobs/view/3300964454/...  \n",
       "6   https://www.linkedin.com/jobs/view/3248331911/...  \n",
       "7   https://www.linkedin.com/jobs/view/3292183531/...  \n",
       "8   https://www.linkedin.com/jobs/view/3182252551/...  \n",
       "9   https://www.linkedin.com/jobs/view/3254127142/...  \n",
       "10  https://www.linkedin.com/jobs/view/3295116201/...  \n",
       "11  https://www.linkedin.com/jobs/view/3254123909/...  \n",
       "12  https://www.linkedin.com/jobs/view/3293174977/...  "
      ]
     },
     "metadata": {},
     "output_type": "display_data"
    }
   ],
   "source": [
    "# Criando um DataFrame com os resultados das listas.\n",
    "df = pd.DataFrame(lista_tuplas, columns=['Vagas', 'Empresa', 'Localidade', 'Links Das Vagas'])\n",
    "display(df)"
   ]
  }
 ],
 "metadata": {
  "interpreter": {
   "hash": "7104f0317032d7750e84810ab9f028c142b835856dc0e09262a4eec404203bbf"
  },
  "kernelspec": {
   "display_name": "Python 3.7.0 32-bit",
   "language": "python",
   "name": "python3"
  },
  "language_info": {
   "codemirror_mode": {
    "name": "ipython",
    "version": 3
   },
   "file_extension": ".py",
   "mimetype": "text/x-python",
   "name": "python",
   "nbconvert_exporter": "python",
   "pygments_lexer": "ipython3",
   "version": "3.7.0"
  },
  "orig_nbformat": 4
 },
 "nbformat": 4,
 "nbformat_minor": 2
}
